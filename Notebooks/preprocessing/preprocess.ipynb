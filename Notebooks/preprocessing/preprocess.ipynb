{
 "cells": [
  {
   "cell_type": "code",
   "execution_count": 217,
   "metadata": {},
   "outputs": [],
   "source": [
    "# ! pip install spacy\n",
    "# ! pip install https://github.com/explosion/spacy-models/releases/download/en_core_web_trf-3.1.0/en_core_web_trf-3.1.0.tar.gz\n",
    "# ! pip install presidio-analyzer\n",
    "# ! python -m spacy download en_core_web_trf\n",
    "# ! python -m spacy download en_core_web_lg"
   ]
  },
  {
   "cell_type": "code",
   "execution_count": 218,
   "metadata": {},
   "outputs": [],
   "source": [
    "import spacy\n",
    "from presidio_analyzer import AnalyzerEngine\n",
    "from presidio_analyzer.nlp_engine import NlpEngineProvider\n",
    "import pandas as pd"
   ]
  },
  {
   "cell_type": "code",
   "execution_count": 219,
   "metadata": {},
   "outputs": [],
   "source": [
    "df = pd.read_csv('../../Data/Raw/YelpFakeReview(Tagged DF).csv')\n",
    "df = df.dropna(subset=['reviewContent'])"
   ]
  },
  {
   "cell_type": "markdown",
   "metadata": {},
   "source": [
    "### Entity Recognition Extraction from Review using Microsoft Presidio and Spacy model"
   ]
  },
  {
   "cell_type": "markdown",
   "metadata": {},
   "source": [
    "Presidio Analyzer supports a wide range of entities. Here are some of them that we will be selecting:\n",
    "\n",
    "- `DATE_TIME`: Absolute or relative dates or periods or times smaller than a day¹.\n",
    "- `EMAIL_ADDRESS`: An email address identifies an email box to which email messages are delivered¹.\n",
    "- `NRP`: A person’s Nationality, religious or political group¹.\n",
    "- `LOCATION`: Name of politically or geographically defined location (cities, provinces, countries, international regions, bodies of water, mountains)¹.\n",
    "- `PERSON`: A full person name, which can include first names, middle names or initials, and last names¹.\n",
    "- `PHONE_NUMBER`: A telephone number¹.\n",
    "- `URL`: A URL (Uniform Resource Locator), unique identifier used to locate a resource on the Internet¹.\n"
   ]
  },
  {
   "cell_type": "code",
   "execution_count": 220,
   "metadata": {},
   "outputs": [],
   "source": [
    "# Initialize the Presidio analyzer engine\n",
    "analyzer = AnalyzerEngine()"
   ]
  },
  {
   "cell_type": "code",
   "execution_count": 221,
   "metadata": {},
   "outputs": [],
   "source": [
    "# Load the installed model\n",
    "nlp = spacy.load('en_core_web_trf')"
   ]
  },
  {
   "cell_type": "code",
   "execution_count": 222,
   "metadata": {},
   "outputs": [],
   "source": [
    "# Create configuration containing engine name and models\n",
    "configuration = {\n",
    "    \"nlp_engine_name\": \"spacy\",\n",
    "    \"models\": [\n",
    "        {\"lang_code\": \"en\", \"model_name\": \"en_core_web_trf\"},\n",
    "    ],\n",
    "}\n",
    "\n",
    "# Create NLP engine based on configuration\n",
    "provider = NlpEngineProvider(nlp_configuration=configuration)\n",
    "nlp_engine = provider.create_engine()\n",
    "\n",
    "# Pass the created NLP engine and supported_languages to the AnalyzerEngine\n",
    "analyzer = AnalyzerEngine(nlp_engine=nlp_engine, supported_languages=[\"en\"])"
   ]
  },
  {
   "cell_type": "code",
   "execution_count": 223,
   "metadata": {},
   "outputs": [
    {
     "data": {
      "text/plain": [
       "0"
      ]
     },
     "execution_count": 223,
     "metadata": {},
     "output_type": "execute_result"
    }
   ],
   "source": [
    "df.reviewContent.isna().sum()"
   ]
  },
  {
   "cell_type": "code",
   "execution_count": 224,
   "metadata": {},
   "outputs": [],
   "source": [
    "# Assuming df is your DataFrame and 'reviewContent' is your column with text data\n",
    "entities = ['DATE_TIME', 'EMAIL_ADDRESS', 'NRP', 'LOCATION', 'PERSON', 'PHONE_NUMBER']\n",
    "\n",
    "for entity in entities:\n",
    "    df[entity] = None"
   ]
  },
  {
   "cell_type": "code",
   "execution_count": 225,
   "metadata": {},
   "outputs": [],
   "source": [
    "# for index, row in df.iterrows():\n",
    "#     text = row['reviewContent']\n",
    "#     results = analyzer.analyze(text=text, entities=entities, language='en')\n",
    "#     for result in results:\n",
    "#         entity_text = text[result.start : result.end]\n",
    "#         entity_type = result.entity_type\n",
    "#         if df.loc[index, entity_type] == None:\n",
    "#             df.loc[index, entity_type] = [entity_text]\n",
    "#         else:\n",
    "#             df.loc[index, entity_type].append(entity_text)"
   ]
  },
  {
   "cell_type": "code",
   "execution_count": 226,
   "metadata": {},
   "outputs": [],
   "source": [
    "def analyze_row(row):\n",
    "    text = row['reviewContent']\n",
    "    results = analyzer.analyze(text=text, entities=entities, language='en')\n",
    "    for result in results:\n",
    "        entity_text = text[result.start : result.end]\n",
    "        entity_type = result.entity_type\n",
    "        if row[entity_type] == None:\n",
    "            row[entity_type] = [entity_text]\n",
    "        else:\n",
    "            row[entity_type].append(entity_text)\n",
    "    return row"
   ]
  },
  {
   "cell_type": "code",
   "execution_count": null,
   "metadata": {},
   "outputs": [],
   "source": [
    "df = df.apply(analyze_row, axis=1)\n"
   ]
  },
  {
   "cell_type": "code",
   "execution_count": 230,
   "metadata": {},
   "outputs": [],
   "source": [
    "df.to_csv('Entity_dataframe.csv', index= False)"
   ]
  }
 ],
 "metadata": {
  "kernelspec": {
   "display_name": ".venv",
   "language": "python",
   "name": "python3"
  },
  "language_info": {
   "codemirror_mode": {
    "name": "ipython",
    "version": 3
   },
   "file_extension": ".py",
   "mimetype": "text/x-python",
   "name": "python",
   "nbconvert_exporter": "python",
   "pygments_lexer": "ipython3",
   "version": "3.10.4"
  },
  "orig_nbformat": 4
 },
 "nbformat": 4,
 "nbformat_minor": 2
}
