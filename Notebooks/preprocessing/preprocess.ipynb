{
 "cells": [
  {
   "cell_type": "code",
   "execution_count": 217,
   "metadata": {},
   "outputs": [],
   "source": [
    "# ! pip install spacy\n",
    "# ! pip install https://github.com/explosion/spacy-models/releases/download/en_core_web_trf-3.1.0/en_core_web_trf-3.1.0.tar.gz\n",
    "# ! pip install presidio-analyzer\n",
    "# ! python -m spacy download en_core_web_trf\n",
    "# ! python -m spacy download en_core_web_lg"
   ]
  },
  {
   "cell_type": "code",
   "execution_count": 218,
   "metadata": {},
   "outputs": [],
   "source": [
    "import spacy\n",
    "from presidio_analyzer import AnalyzerEngine\n",
    "from presidio_analyzer.nlp_engine import NlpEngineProvider\n",
    "import pandas as pd"
   ]
  },
  {
   "cell_type": "code",
   "execution_count": 219,
   "metadata": {},
   "outputs": [],
   "source": [
    "df = pd.read_csv('../../Data/Raw/YelpFakeReview(Tagged DF).csv')\n",
    "df = df.dropna(subset=['reviewContent'])"
   ]
  },
  {
   "cell_type": "markdown",
   "metadata": {},
   "source": [
    "### Entity Recognition Extraction from Review using Microsoft Presidio and Spacy model"
   ]
  },
  {
   "cell_type": "markdown",
   "metadata": {},
   "source": [
    "Presidio Analyzer supports a wide range of entities. Here are some of them that we will be selecting:\n",
    "\n",
    "- `DATE_TIME`: Absolute or relative dates or periods or times smaller than a day¹.\n",
    "- `EMAIL_ADDRESS`: An email address identifies an email box to which email messages are delivered¹.\n",
    "- `NRP`: A person’s Nationality, religious or political group¹.\n",
    "- `LOCATION`: Name of politically or geographically defined location (cities, provinces, countries, international regions, bodies of water, mountains)¹.\n",
    "- `PERSON`: A full person name, which can include first names, middle names or initials, and last names¹.\n",
    "- `PHONE_NUMBER`: A telephone number¹."
   ]
  },
  {
   "cell_type": "code",
   "execution_count": 220,
   "metadata": {},
   "outputs": [],
   "source": [
    "# Initialize the Presidio analyzer engine\n",
    "analyzer = AnalyzerEngine()"
   ]
  },
  {
   "cell_type": "code",
   "execution_count": 221,
   "metadata": {},
   "outputs": [],
   "source": [
    "# Load the installed model\n",
    "nlp = spacy.load('en_core_web_trf')"
   ]
  },
  {
   "cell_type": "code",
   "execution_count": 222,
   "metadata": {},
   "outputs": [],
   "source": [
    "# Create configuration containing engine name and models\n",
    "configuration = {\n",
    "    \"nlp_engine_name\": \"spacy\",\n",
    "    \"models\": [\n",
    "        {\"lang_code\": \"en\", \"model_name\": \"en_core_web_trf\"},\n",
    "    ],\n",
    "}\n",
    "\n",
    "# Create NLP engine based on configuration\n",
    "provider = NlpEngineProvider(nlp_configuration=configuration)\n",
    "nlp_engine = provider.create_engine()\n",
    "\n",
    "# Pass the created NLP engine and supported_languages to the AnalyzerEngine\n",
    "analyzer = AnalyzerEngine(nlp_engine=nlp_engine, supported_languages=[\"en\"])"
   ]
  },
  {
   "cell_type": "code",
   "execution_count": 223,
   "metadata": {},
   "outputs": [
    {
     "data": {
      "text/plain": [
       "0"
      ]
     },
     "execution_count": 223,
     "metadata": {},
     "output_type": "execute_result"
    }
   ],
   "source": [
    "df.reviewContent.isna().sum()"
   ]
  },
  {
   "cell_type": "code",
   "execution_count": 224,
   "metadata": {},
   "outputs": [],
   "source": [
    "# Assuming df is your DataFrame and 'reviewContent' is your column with text data\n",
    "entities = ['DATE_TIME', 'EMAIL_ADDRESS', 'NRP', 'LOCATION', 'PERSON', 'PHONE_NUMBER']\n",
    "\n",
    "for entity in entities:\n",
    "    df[entity] = None"
   ]
  },
  {
   "cell_type": "code",
   "execution_count": 225,
   "metadata": {},
   "outputs": [],
   "source": [
    "# for index, row in df.iterrows():\n",
    "#     text = row['reviewContent']\n",
    "#     results = analyzer.analyze(text=text, entities=entities, language='en')\n",
    "#     for result in results:\n",
    "#         entity_text = text[result.start : result.end]\n",
    "#         entity_type = result.entity_type\n",
    "#         if df.loc[index, entity_type] == None:\n",
    "#             df.loc[index, entity_type] = [entity_text]\n",
    "#         else:\n",
    "#             df.loc[index, entity_type].append(entity_text)"
   ]
  },
  {
   "cell_type": "code",
   "execution_count": 226,
   "metadata": {},
   "outputs": [],
   "source": [
    "def analyze_row(row):\n",
    "    text = row['reviewContent']\n",
    "    results = analyzer.analyze(text=text, entities=entities, language='en')\n",
    "    for result in results:\n",
    "        entity_text = text[result.start : result.end]\n",
    "        entity_type = result.entity_type\n",
    "        if row[entity_type] == None:\n",
    "            row[entity_type] = [entity_text]\n",
    "        else:\n",
    "            row[entity_type].append(entity_text)\n",
    "    return row"
   ]
  },
  {
   "cell_type": "code",
   "execution_count": null,
   "metadata": {},
   "outputs": [],
   "source": [
    "df = df.apply(analyze_row, axis=1)"
   ]
  },
  {
   "cell_type": "code",
   "execution_count": 307,
   "metadata": {},
   "outputs": [
    {
     "data": {
      "text/html": [
       "<div>\n",
       "<style scoped>\n",
       "    .dataframe tbody tr th:only-of-type {\n",
       "        vertical-align: middle;\n",
       "    }\n",
       "\n",
       "    .dataframe tbody tr th {\n",
       "        vertical-align: top;\n",
       "    }\n",
       "\n",
       "    .dataframe thead th {\n",
       "        text-align: right;\n",
       "    }\n",
       "</style>\n",
       "<table border=\"1\" class=\"dataframe\">\n",
       "  <thead>\n",
       "    <tr style=\"text-align: right;\">\n",
       "      <th></th>\n",
       "      <th>reviewDate</th>\n",
       "      <th>reviewID</th>\n",
       "      <th>reviewerID</th>\n",
       "      <th>reviewContent</th>\n",
       "      <th>reviewRating</th>\n",
       "      <th>reviewUsefulCount</th>\n",
       "      <th>reviewCoolCount</th>\n",
       "      <th>reviewFunnyCount</th>\n",
       "      <th>restaurantID</th>\n",
       "      <th>flagged</th>\n",
       "      <th>...</th>\n",
       "      <th>resLocation</th>\n",
       "      <th>resName</th>\n",
       "      <th>resReviewCount</th>\n",
       "      <th>resRating</th>\n",
       "      <th>DATE_TIME</th>\n",
       "      <th>EMAIL_ADDRESS</th>\n",
       "      <th>NRP</th>\n",
       "      <th>LOCATION</th>\n",
       "      <th>PERSON</th>\n",
       "      <th>PHONE_NUMBER</th>\n",
       "    </tr>\n",
       "  </thead>\n",
       "  <tbody>\n",
       "    <tr>\n",
       "      <th>0</th>\n",
       "      <td>9/22/2012</td>\n",
       "      <td>GtwU21YOQn-wf4vWRUIx6w</td>\n",
       "      <td>bNYesZ944s6IJVowOnB0iA</td>\n",
       "      <td>Unlike Next, which we'd eaten at the previous ...</td>\n",
       "      <td>5</td>\n",
       "      <td>0</td>\n",
       "      <td>0</td>\n",
       "      <td>0</td>\n",
       "      <td>pbEiXam9YJL3neCYHGwLUA</td>\n",
       "      <td>N</td>\n",
       "      <td>...</td>\n",
       "      <td>Alinea - Lincoln Park - Chicago, IL</td>\n",
       "      <td>Alinea</td>\n",
       "      <td>841</td>\n",
       "      <td>4.5</td>\n",
       "      <td>['the previous night', 'four hours and thirty-...</td>\n",
       "      <td>NaN</td>\n",
       "      <td>['English']</td>\n",
       "      <td>NaN</td>\n",
       "      <td>['Willy Wonka', 'Mickey', 'Minnie Mouse', 'Jac...</td>\n",
       "      <td>NaN</td>\n",
       "    </tr>\n",
       "    <tr>\n",
       "      <th>1</th>\n",
       "      <td>9/22/2012</td>\n",
       "      <td>0LpVTc3</td>\n",
       "      <td>TRKxLC3y-ZvP45e5iilMtw</td>\n",
       "      <td>Probably one of the best meals I've had ever. ...</td>\n",
       "      <td>5</td>\n",
       "      <td>0</td>\n",
       "      <td>0</td>\n",
       "      <td>0</td>\n",
       "      <td>pbEiXam9YJL3neCYHGwLUA</td>\n",
       "      <td>N</td>\n",
       "      <td>...</td>\n",
       "      <td>Alinea - Lincoln Park - Chicago, IL</td>\n",
       "      <td>Alinea</td>\n",
       "      <td>841</td>\n",
       "      <td>4.5</td>\n",
       "      <td>['an evening', 'a least 4 hours']</td>\n",
       "      <td>NaN</td>\n",
       "      <td>NaN</td>\n",
       "      <td>NaN</td>\n",
       "      <td>['Grant Achatz']</td>\n",
       "      <td>NaN</td>\n",
       "    </tr>\n",
       "    <tr>\n",
       "      <th>2</th>\n",
       "      <td>9/19/2012</td>\n",
       "      <td>tljtLzf68Fkwf</td>\n",
       "      <td>0EMm8umAqXZzyhxNpL4M9g</td>\n",
       "      <td>Service was impeccable. Experience and present...</td>\n",
       "      <td>3</td>\n",
       "      <td>2</td>\n",
       "      <td>0</td>\n",
       "      <td>0</td>\n",
       "      <td>pbEiXam9YJL3neCYHGwLUA</td>\n",
       "      <td>N</td>\n",
       "      <td>...</td>\n",
       "      <td>Alinea - Lincoln Park - Chicago, IL</td>\n",
       "      <td>Alinea</td>\n",
       "      <td>841</td>\n",
       "      <td>4.5</td>\n",
       "      <td>NaN</td>\n",
       "      <td>NaN</td>\n",
       "      <td>NaN</td>\n",
       "      <td>NaN</td>\n",
       "      <td>NaN</td>\n",
       "      <td>NaN</td>\n",
       "    </tr>\n",
       "    <tr>\n",
       "      <th>3</th>\n",
       "      <td>9/6/2012</td>\n",
       "      <td>iSN</td>\n",
       "      <td>DlwexC7z88ymAzu45skODw</td>\n",
       "      <td>The problem with places like this, given the e...</td>\n",
       "      <td>3</td>\n",
       "      <td>8</td>\n",
       "      <td>0</td>\n",
       "      <td>3</td>\n",
       "      <td>pbEiXam9YJL3neCYHGwLUA</td>\n",
       "      <td>N</td>\n",
       "      <td>...</td>\n",
       "      <td>Alinea - Lincoln Park - Chicago, IL</td>\n",
       "      <td>Alinea</td>\n",
       "      <td>841</td>\n",
       "      <td>4.5</td>\n",
       "      <td>['5 seconds']</td>\n",
       "      <td>NaN</td>\n",
       "      <td>NaN</td>\n",
       "      <td>NaN</td>\n",
       "      <td>['Jackson Pollock', 'Grant Achatz']</td>\n",
       "      <td>NaN</td>\n",
       "    </tr>\n",
       "    <tr>\n",
       "      <th>4</th>\n",
       "      <td>9/9/2012</td>\n",
       "      <td>Jmwrh7</td>\n",
       "      <td>kW2dk1CWihmh3g7k9N2G8A</td>\n",
       "      <td>I have no idea how to write my review - dining...</td>\n",
       "      <td>5</td>\n",
       "      <td>1</td>\n",
       "      <td>2</td>\n",
       "      <td>0</td>\n",
       "      <td>pbEiXam9YJL3neCYHGwLUA</td>\n",
       "      <td>N</td>\n",
       "      <td>...</td>\n",
       "      <td>Alinea - Lincoln Park - Chicago, IL</td>\n",
       "      <td>Alinea</td>\n",
       "      <td>841</td>\n",
       "      <td>4.5</td>\n",
       "      <td>['a few days']</td>\n",
       "      <td>NaN</td>\n",
       "      <td>['American']</td>\n",
       "      <td>['Chicago']</td>\n",
       "      <td>NaN</td>\n",
       "      <td>NaN</td>\n",
       "    </tr>\n",
       "  </tbody>\n",
       "</table>\n",
       "<p>5 rows × 32 columns</p>\n",
       "</div>"
      ],
      "text/plain": [
       "  reviewDate                reviewID              reviewerID  \\\n",
       "0  9/22/2012  GtwU21YOQn-wf4vWRUIx6w  bNYesZ944s6IJVowOnB0iA   \n",
       "1  9/22/2012                 0LpVTc3  TRKxLC3y-ZvP45e5iilMtw   \n",
       "2  9/19/2012           tljtLzf68Fkwf  0EMm8umAqXZzyhxNpL4M9g   \n",
       "3   9/6/2012                     iSN  DlwexC7z88ymAzu45skODw   \n",
       "4   9/9/2012                  Jmwrh7  kW2dk1CWihmh3g7k9N2G8A   \n",
       "\n",
       "                                       reviewContent  reviewRating  \\\n",
       "0  Unlike Next, which we'd eaten at the previous ...             5   \n",
       "1  Probably one of the best meals I've had ever. ...             5   \n",
       "2  Service was impeccable. Experience and present...             3   \n",
       "3  The problem with places like this, given the e...             3   \n",
       "4  I have no idea how to write my review - dining...             5   \n",
       "\n",
       "   reviewUsefulCount  reviewCoolCount  reviewFunnyCount  \\\n",
       "0                  0                0                 0   \n",
       "1                  0                0                 0   \n",
       "2                  2                0                 0   \n",
       "3                  8                0                 3   \n",
       "4                  1                2                 0   \n",
       "\n",
       "             restaurantID flagged  ...                          resLocation  \\\n",
       "0  pbEiXam9YJL3neCYHGwLUA       N  ...  Alinea - Lincoln Park - Chicago, IL   \n",
       "1  pbEiXam9YJL3neCYHGwLUA       N  ...  Alinea - Lincoln Park - Chicago, IL   \n",
       "2  pbEiXam9YJL3neCYHGwLUA       N  ...  Alinea - Lincoln Park - Chicago, IL   \n",
       "3  pbEiXam9YJL3neCYHGwLUA       N  ...  Alinea - Lincoln Park - Chicago, IL   \n",
       "4  pbEiXam9YJL3neCYHGwLUA       N  ...  Alinea - Lincoln Park - Chicago, IL   \n",
       "\n",
       "  resName resReviewCount  resRating  \\\n",
       "0  Alinea            841        4.5   \n",
       "1  Alinea            841        4.5   \n",
       "2  Alinea            841        4.5   \n",
       "3  Alinea            841        4.5   \n",
       "4  Alinea            841        4.5   \n",
       "\n",
       "                                           DATE_TIME  EMAIL_ADDRESS  \\\n",
       "0  ['the previous night', 'four hours and thirty-...            NaN   \n",
       "1                  ['an evening', 'a least 4 hours']            NaN   \n",
       "2                                                NaN            NaN   \n",
       "3                                      ['5 seconds']            NaN   \n",
       "4                                     ['a few days']            NaN   \n",
       "\n",
       "            NRP     LOCATION  \\\n",
       "0   ['English']          NaN   \n",
       "1           NaN          NaN   \n",
       "2           NaN          NaN   \n",
       "3           NaN          NaN   \n",
       "4  ['American']  ['Chicago']   \n",
       "\n",
       "                                              PERSON  PHONE_NUMBER  \n",
       "0  ['Willy Wonka', 'Mickey', 'Minnie Mouse', 'Jac...           NaN  \n",
       "1                                   ['Grant Achatz']           NaN  \n",
       "2                                                NaN           NaN  \n",
       "3                ['Jackson Pollock', 'Grant Achatz']           NaN  \n",
       "4                                                NaN           NaN  \n",
       "\n",
       "[5 rows x 32 columns]"
      ]
     },
     "execution_count": 307,
     "metadata": {},
     "output_type": "execute_result"
    }
   ],
   "source": [
    "df.head(5)"
   ]
  },
  {
   "cell_type": "code",
   "execution_count": 230,
   "metadata": {},
   "outputs": [],
   "source": [
    "df.to_csv('Entity_dataframe.csv', index= False)"
   ]
  },
  {
   "cell_type": "code",
   "execution_count": null,
   "metadata": {},
   "outputs": [],
   "source": [
    "df = pd.read_csv('Entity_dataframe.csv')"
   ]
  },
  {
   "cell_type": "code",
   "execution_count": 297,
   "metadata": {},
   "outputs": [],
   "source": [
    "import numpy as np\n",
    "import ast\n",
    "\n",
    "for entity in entities:\n",
    "    # Convert the string representation of list to actual list\n",
    "    df[entity] = df[entity].apply(lambda x: ast.literal_eval(x) if pd.notna(x) else np.NaN)\n",
    "    "
   ]
  },
  {
   "cell_type": "code",
   "execution_count": 303,
   "metadata": {},
   "outputs": [],
   "source": [
    "for entity in entities:\n",
    "    # Count of elements in the list in each row\n",
    "    df[entity + '_count'] = df[entity].apply(lambda x: len(x) if isinstance(x, list) else 0)\n",
    "    df[entity + '_flag'] = df[entity].apply(lambda x: isinstance(x, list))\n"
   ]
  },
  {
   "cell_type": "code",
   "execution_count": 305,
   "metadata": {},
   "outputs": [],
   "source": [
    "df.to_csv('Entity_Count_Flag_dataframe.csv',index=None)"
   ]
  }
 ],
 "metadata": {
  "kernelspec": {
   "display_name": ".venv",
   "language": "python",
   "name": "python3"
  },
  "language_info": {
   "codemirror_mode": {
    "name": "ipython",
    "version": 3
   },
   "file_extension": ".py",
   "mimetype": "text/x-python",
   "name": "python",
   "nbconvert_exporter": "python",
   "pygments_lexer": "ipython3",
   "version": "3.10.4"
  },
  "orig_nbformat": 4
 },
 "nbformat": 4,
 "nbformat_minor": 2
}
