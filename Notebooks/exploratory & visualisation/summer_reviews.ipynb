{
 "cells": [
  {
   "cell_type": "code",
   "execution_count": 117,
   "metadata": {},
   "outputs": [],
   "source": [
    "import pandas as pd \n",
    "import matplotlib.pyplot as plt "
   ]
  },
  {
   "cell_type": "code",
   "execution_count": 118,
   "metadata": {},
   "outputs": [
    {
     "name": "stderr",
     "output_type": "stream",
     "text": [
      "/var/folders/1t/nll74_0j61918pgb1cz1kwsr0000gn/T/ipykernel_20520/341387442.py:1: DtypeWarning: Columns (27) have mixed types. Specify dtype option on import or set low_memory=False.\n",
      "  df = pd.read_csv(\"/Users/admin/Desktop/UNI/Y3/BT4012/Project/BT4012_Reviews/Data/Raw/Entity_Count_Flag_dataframe.csv\")\n"
     ]
    }
   ],
   "source": [
    "df = pd.read_csv(\"/Users/admin/Desktop/UNI/Y3/BT4012/Project/BT4012_Reviews/Data/Raw/Entity_Count_Flag_dataframe.csv\")"
   ]
  },
  {
   "cell_type": "code",
   "execution_count": 119,
   "metadata": {},
   "outputs": [
    {
     "data": {
      "text/plain": [
       "0    Unlike Next, which we'd eaten at the previous ...\n",
       "1    Probably one of the best meals I've had ever. ...\n",
       "2    Service was impeccable. Experience and present...\n",
       "3    The problem with places like this, given the e...\n",
       "4    I have no idea how to write my review - dining...\n",
       "5    Despite the first-world tragedy I endured in a...\n",
       "6    Overall, was it worth the hype? Yes and more. ...\n",
       "7    There are already TONS of professional & amate...\n",
       "8    Your life is a countdown ever since you're bor...\n",
       "9    Lots of complaints about how difficult it is t...\n",
       "Name: reviewContent, dtype: object"
      ]
     },
     "execution_count": 119,
     "metadata": {},
     "output_type": "execute_result"
    }
   ],
   "source": [
    "df[\"reviewContent\"].head(10)\n"
   ]
  },
  {
   "cell_type": "code",
   "execution_count": 120,
   "metadata": {},
   "outputs": [
    {
     "name": "stderr",
     "output_type": "stream",
     "text": [
      "[nltk_data] Downloading package stopwords to /Users/admin/nltk_data...\n",
      "[nltk_data]   Package stopwords is already up-to-date!\n",
      "[nltk_data] Downloading package wordnet to /Users/admin/nltk_data...\n",
      "[nltk_data]   Package wordnet is already up-to-date!\n"
     ]
    },
    {
     "name": "stdout",
     "output_type": "stream",
     "text": [
      "                                           reviewContent  \\\n",
      "0      Unlike Next, which we'd eaten at the previous ...   \n",
      "1      Probably one of the best meals I've had ever. ...   \n",
      "2      Service was impeccable. Experience and present...   \n",
      "3      The problem with places like this, given the e...   \n",
      "4      I have no idea how to write my review - dining...   \n",
      "...                                                  ...   \n",
      "26951  It's Taco Bell, with higher prices, but it's T...   \n",
      "26952  Yellow Rose is a favorite of mine. I'd go ther...   \n",
      "26953  Not bad. We ate there because the odd wicker s...   \n",
      "26954  We were surprised to have been eagerly roped i...   \n",
      "26955  A gorgeous shy young teen asked the owner if s...   \n",
      "\n",
      "                                            preprocessed  \n",
      "0      [unlike, next, wed, eaten, previous, night, di...  \n",
      "1      [probably, one, best, meal, ive, ever, perform...  \n",
      "2      [service, impeccable, experience, presentation...  \n",
      "3      [problem, place, like, given, exhorbitant, cos...  \n",
      "4      [idea, write, review, dining, alinea, brings, ...  \n",
      "...                                                  ...  \n",
      "26951  [taco, bell, higher, price, taco, bell, stand,...  \n",
      "26952  [yellow, rose, favorite, mine, id, go, every, ...  \n",
      "26953  [bad, ate, odd, wicker, seat, inviting, ate, s...  \n",
      "26954  [surprised, eagerly, roped, pop, trivia, game,...  \n",
      "26955  [gorgeous, shy, young, teen, asked, owner, cou...  \n",
      "\n",
      "[26956 rows x 2 columns]\n"
     ]
    }
   ],
   "source": [
    "import pandas as pd\n",
    "import nltk\n",
    "import re\n",
    "import string\n",
    "from nltk.stem.porter import PorterStemmer\n",
    "from nltk.stem import WordNetLemmatizer\n",
    "\n",
    "# Download stopwords and wordnet data for NLTK\n",
    "nltk.download('stopwords')\n",
    "nltk.download('wordnet')\n",
    "\n",
    "# Stop words\n",
    "stopwords = nltk.corpus.stopwords.words('english')\n",
    "\n",
    "# Functions for preprocessing\n",
    "def remove_punctuation(text):\n",
    "    punctuationfree=\"\".join([i for i in text if i not in string.punctuation])\n",
    "    return punctuationfree\n",
    "\n",
    "def tokenization(text):\n",
    "    tokens = re.split('\\W+',text)\n",
    "    return tokens\n",
    "\n",
    "def remove_stopwords(text):\n",
    "    output= [i for i in text if i not in stopwords]\n",
    "    return output\n",
    "\n",
    "def lemmatizer(text):\n",
    "    wordnet_lemmatizer = WordNetLemmatizer()\n",
    "    lemm_text = [wordnet_lemmatizer.lemmatize(word) for word in text]\n",
    "    return lemm_text\n",
    "\n",
    "def preprocess(text):\n",
    "    text = remove_punctuation(text)\n",
    "    text = text.lower()\n",
    "    text = tokenization(text)\n",
    "    text = remove_stopwords(text)\n",
    "    text = lemmatizer(text)\n",
    "    return text\n",
    "\n",
    "# Apply preprocessing\n",
    "df['preprocessed'] = df['reviewContent'].apply(lambda x: preprocess(x))\n",
    "\n",
    "print(df[['reviewContent', 'preprocessed']])\n"
   ]
  },
  {
   "cell_type": "markdown",
   "metadata": {},
   "source": [
    "### LDA - Topic Modelling "
   ]
  },
  {
   "cell_type": "code",
   "execution_count": 136,
   "metadata": {},
   "outputs": [],
   "source": [
    "from gensim.corpora import Dictionary\n",
    "processed_data = df[\"preprocessed\"]\n",
    "\n",
    "# create dictionary from preprocessed column in df where every unique token will be assigned a unique ID \n",
    "dictionary = Dictionary(df[\"preprocessed\"])\n",
    "\n",
    "# converts each text into boW -> list of tuples each tuples is (token_id, token_count)\n",
    "# id mapped by dict, token count is num times appear in document \n",
    "corpus = [dictionary.doc2bow(text) for text in processed_data]\n"
   ]
  },
  {
   "cell_type": "code",
   "execution_count": 193,
   "metadata": {},
   "outputs": [],
   "source": [
    "from gensim.models import LdaModel\n",
    "\n",
    "# train model \n",
    "lda_model = LdaModel(corpus=corpus, id2word=dictionary, num_topics=40, random_state=42)\n"
   ]
  },
  {
   "cell_type": "code",
   "execution_count": 194,
   "metadata": {},
   "outputs": [],
   "source": [
    "topics = []\n",
    "# for each review in corpus, get topic distribution \n",
    "\n",
    "for review in corpus:\n",
    "    # get topic distribution for each review; returns list of tuples each tuple consist of (topic_num, probabilityP)\n",
    "\n",
    "    topic_distribution = lda_model[review]\n",
    "    # print(topic_distribution)\n",
    "    # sort by probability, get the topic number of the highest probability\n",
    "    # [0][0] gets the topic number of highest probability, then append to topics     \n",
    "    main_topic = sorted(topic_distribution, key=lambda x: x[1], reverse=True)[0][0]\n",
    "    topics.append(main_topic)"
   ]
  },
  {
   "cell_type": "code",
   "execution_count": 195,
   "metadata": {},
   "outputs": [],
   "source": [
    "df['main_topic'] = topics\n"
   ]
  },
  {
   "cell_type": "code",
   "execution_count": 196,
   "metadata": {},
   "outputs": [
    {
     "name": "stdout",
     "output_type": "stream",
     "text": [
      "Topic: 0 \n",
      "Words: 0.013*\"south\" + 0.009*\"noon\" + 0.008*\"like\" + 0.008*\"water\" + 0.007*\"one\" + 0.007*\"u\" + 0.006*\"would\" + 0.006*\"food\" + 0.006*\"came\" + 0.006*\"server\"\n",
      "\n",
      "Topic: 1 \n",
      "Words: 0.025*\"potato\" + 0.024*\"fry\" + 0.014*\"burger\" + 0.010*\"sauce\" + 0.010*\"mashed\" + 0.010*\"pancake\" + 0.009*\"cheese\" + 0.009*\"french\" + 0.009*\"bacon\" + 0.009*\"sweet\"\n",
      "\n",
      "Topic: 2 \n",
      "Words: 0.024*\"place\" + 0.016*\"like\" + 0.016*\"good\" + 0.016*\"dont\" + 0.015*\"bar\" + 0.014*\"get\" + 0.012*\"ive\" + 0.011*\"im\" + 0.011*\"always\" + 0.011*\"go\"\n",
      "\n",
      "Topic: 3 \n",
      "Words: 0.081*\"sandwich\" + 0.032*\"lunch\" + 0.012*\"chip\" + 0.012*\"soup\" + 0.011*\"ok\" + 0.010*\"get\" + 0.009*\"guacamole\" + 0.009*\"spicy\" + 0.008*\"love\" + 0.008*\"really\"\n",
      "\n",
      "Topic: 4 \n",
      "Words: 0.015*\"meat\" + 0.015*\"salad\" + 0.013*\"chicken\" + 0.012*\"dish\" + 0.010*\"good\" + 0.009*\"soup\" + 0.008*\"dessert\" + 0.008*\"sauce\" + 0.007*\"delicious\" + 0.007*\"meal\"\n",
      "\n",
      "Topic: 5 \n",
      "Words: 0.028*\"bun\" + 0.022*\"whiskey\" + 0.020*\"ribeye\" + 0.019*\"gluten\" + 0.015*\"medallion\" + 0.010*\"duck\" + 0.007*\"raised\" + 0.007*\"get\" + 0.007*\"confit\" + 0.007*\"sale\"\n",
      "\n",
      "Topic: 6 \n",
      "Words: 0.055*\"coupon\" + 0.032*\"valet\" + 0.022*\"ny\" + 0.020*\"closest\" + 0.019*\"definately\" + 0.017*\"quarter\" + 0.016*\"linguine\" + 0.015*\"reviewed\" + 0.014*\"sp\" + 0.014*\"skeptical\"\n",
      "\n",
      "Topic: 7 \n",
      "Words: 0.047*\"brunch\" + 0.033*\"breakfast\" + 0.024*\"egg\" + 0.020*\"coffee\" + 0.015*\"sunday\" + 0.013*\"cafe\" + 0.012*\"menu\" + 0.011*\"burrito\" + 0.010*\"great\" + 0.010*\"morning\"\n",
      "\n",
      "Topic: 8 \n",
      "Words: 0.019*\"mia\" + 0.014*\"mole\" + 0.011*\"popcorn\" + 0.011*\"kumas\" + 0.008*\"would\" + 0.007*\"caper\" + 0.007*\"batter\" + 0.007*\"colorful\" + 0.006*\"tiger\" + 0.006*\"food\"\n",
      "\n",
      "Topic: 9 \n",
      "Words: 0.029*\"client\" + 0.020*\"politely\" + 0.019*\"native\" + 0.016*\"truck\" + 0.015*\"fist\" + 0.013*\"gibson\" + 0.012*\"poisoning\" + 0.012*\"argue\" + 0.012*\"rye\" + 0.012*\"finest\"\n",
      "\n",
      "Topic: 10 \n",
      "Words: 0.019*\"table\" + 0.014*\"u\" + 0.012*\"minute\" + 0.010*\"place\" + 0.010*\"wait\" + 0.008*\"would\" + 0.008*\"back\" + 0.008*\"time\" + 0.008*\"night\" + 0.008*\"get\"\n",
      "\n",
      "Topic: 11 \n",
      "Words: 0.035*\"cupcake\" + 0.034*\"q\" + 0.030*\"son\" + 0.014*\"x\" + 0.013*\"pot\" + 0.011*\"child\" + 0.008*\"superior\" + 0.008*\"aint\" + 0.007*\"hunt\" + 0.007*\"competition\"\n",
      "\n",
      "Topic: 12 \n",
      "Words: 0.183*\"filet\" + 0.079*\"mignon\" + 0.065*\"salsa\" + 0.033*\"unbelievable\" + 0.028*\"mediterranean\" + 0.017*\"steamed\" + 0.011*\"cart\" + 0.011*\"addictive\" + 0.010*\"drawback\" + 0.009*\"rubbed\"\n",
      "\n",
      "Topic: 13 \n",
      "Words: 0.071*\"great\" + 0.058*\"food\" + 0.035*\"service\" + 0.034*\"place\" + 0.029*\"always\" + 0.024*\"love\" + 0.019*\"restaurant\" + 0.017*\"best\" + 0.014*\"ive\" + 0.014*\"time\"\n",
      "\n",
      "Topic: 14 \n",
      "Words: 0.015*\"good\" + 0.009*\"got\" + 0.009*\"food\" + 0.008*\"time\" + 0.007*\"also\" + 0.007*\"place\" + 0.007*\"like\" + 0.007*\"little\" + 0.007*\"would\" + 0.006*\"cheese\"\n",
      "\n",
      "Topic: 15 \n",
      "Words: 0.015*\"takeout\" + 0.014*\"drink\" + 0.013*\"place\" + 0.010*\"loud\" + 0.009*\"bar\" + 0.009*\"music\" + 0.008*\"dark\" + 0.007*\"liquor\" + 0.007*\"great\" + 0.007*\"upstairs\"\n",
      "\n",
      "Topic: 16 \n",
      "Words: 0.033*\"yum\" + 0.021*\"pie\" + 0.014*\"cute\" + 0.014*\"good\" + 0.012*\"soo\" + 0.009*\"like\" + 0.008*\"time\" + 0.008*\"got\" + 0.007*\"really\" + 0.007*\"cuz\"\n",
      "\n",
      "Topic: 17 \n",
      "Words: 0.020*\"pickle\" + 0.019*\"place\" + 0.018*\"dog\" + 0.017*\"good\" + 0.013*\"greek\" + 0.011*\"frequent\" + 0.011*\"counter\" + 0.007*\"food\" + 0.007*\"hot\" + 0.007*\"order\"\n",
      "\n",
      "Topic: 18 \n",
      "Words: 0.026*\"place\" + 0.025*\"great\" + 0.017*\"food\" + 0.015*\"love\" + 0.012*\"delicious\" + 0.012*\"wine\" + 0.012*\"friendly\" + 0.012*\"dinner\" + 0.012*\"staff\" + 0.011*\"go\"\n",
      "\n",
      "Topic: 19 \n",
      "Words: 0.024*\"shake\" + 0.018*\"rick\" + 0.017*\"belgian\" + 0.015*\"cookie\" + 0.013*\"build\" + 0.011*\"byob\" + 0.010*\"deliver\" + 0.010*\"enormous\" + 0.008*\"gorgonzola\" + 0.007*\"peanut\"\n",
      "\n",
      "Topic: 20 \n",
      "Words: 0.037*\"loaf\" + 0.027*\"register\" + 0.026*\"hood\" + 0.023*\"boiled\" + 0.021*\"sashimi\" + 0.018*\"au\" + 0.015*\"african\" + 0.014*\"prime\" + 0.013*\"mmm\" + 0.011*\"occupied\"\n",
      "\n",
      "Topic: 21 \n",
      "Words: 0.036*\"place\" + 0.026*\"food\" + 0.020*\"best\" + 0.016*\"good\" + 0.015*\"ive\" + 0.014*\"get\" + 0.013*\"like\" + 0.011*\"dont\" + 0.011*\"one\" + 0.011*\"go\"\n",
      "\n",
      "Topic: 22 \n",
      "Words: 0.026*\"turkey\" + 0.021*\"cheesecake\" + 0.019*\"graham\" + 0.014*\"alfredo\" + 0.012*\"folded\" + 0.010*\"skillet\" + 0.010*\"microwave\" + 0.009*\"iron\" + 0.009*\"cider\" + 0.008*\"wedge\"\n",
      "\n",
      "Topic: 23 \n",
      "Words: 0.058*\"bbq\" + 0.027*\"rangoon\" + 0.018*\"burrito\" + 0.016*\"lettuce\" + 0.016*\"san\" + 0.015*\"kabob\" + 0.014*\"taco\" + 0.011*\"wicker\" + 0.010*\"chili\" + 0.010*\"chicken\"\n",
      "\n",
      "Topic: 24 \n",
      "Words: 0.104*\"good\" + 0.045*\"food\" + 0.026*\"steak\" + 0.025*\"service\" + 0.019*\"price\" + 0.018*\"place\" + 0.017*\"little\" + 0.017*\"really\" + 0.012*\"star\" + 0.011*\"bit\"\n",
      "\n",
      "Topic: 25 \n",
      "Words: 0.056*\"tea\" + 0.054*\"oyster\" + 0.050*\"card\" + 0.040*\"credit\" + 0.039*\"cash\" + 0.033*\"bisque\" + 0.029*\"beer\" + 0.018*\"apology\" + 0.017*\"iced\" + 0.015*\"ring\"\n",
      "\n",
      "Topic: 26 \n",
      "Words: 0.023*\"burger\" + 0.010*\"like\" + 0.010*\"beer\" + 0.009*\"one\" + 0.006*\"savory\" + 0.006*\"im\" + 0.005*\"place\" + 0.005*\"publican\" + 0.005*\"sweet\" + 0.005*\"good\"\n",
      "\n",
      "Topic: 27 \n",
      "Words: 0.078*\"delivery\" + 0.034*\"fee\" + 0.032*\"pita\" + 0.027*\"byob\" + 0.022*\"corkage\" + 0.013*\"course\" + 0.010*\"pancake\" + 0.008*\"lp\" + 0.008*\"po\" + 0.007*\"biased\"\n",
      "\n",
      "Topic: 28 \n",
      "Words: 0.097*\"pizza\" + 0.032*\"italian\" + 0.022*\"crust\" + 0.016*\"good\" + 0.015*\"dish\" + 0.015*\"chicago\" + 0.014*\"place\" + 0.014*\"deep\" + 0.013*\"cheese\" + 0.011*\"thin\"\n",
      "\n",
      "Topic: 29 \n",
      "Words: 0.021*\"food\" + 0.020*\"time\" + 0.017*\"service\" + 0.016*\"u\" + 0.010*\"order\" + 0.009*\"back\" + 0.009*\"would\" + 0.008*\"one\" + 0.008*\"like\" + 0.008*\"server\"\n",
      "\n",
      "Topic: 30 \n",
      "Words: 0.078*\"sushi\" + 0.026*\"duck\" + 0.017*\"texas\" + 0.016*\"crab\" + 0.013*\"star\" + 0.011*\"southern\" + 0.011*\"like\" + 0.008*\"place\" + 0.008*\"average\" + 0.007*\"good\"\n",
      "\n",
      "Topic: 31 \n",
      "Words: 0.031*\"great\" + 0.026*\"place\" + 0.017*\"food\" + 0.013*\"club\" + 0.011*\"owner\" + 0.008*\"service\" + 0.008*\"tru\" + 0.008*\"drink\" + 0.008*\"byob\" + 0.008*\"time\"\n",
      "\n",
      "Topic: 32 \n",
      "Words: 0.015*\"like\" + 0.011*\"really\" + 0.011*\"good\" + 0.010*\"hot\" + 0.008*\"sweet\" + 0.007*\"one\" + 0.007*\"flavor\" + 0.007*\"cheese\" + 0.007*\"cream\" + 0.005*\"place\"\n",
      "\n",
      "Topic: 33 \n",
      "Words: 0.015*\"restaurant\" + 0.014*\"like\" + 0.009*\"one\" + 0.008*\"wine\" + 0.007*\"experience\" + 0.007*\"would\" + 0.007*\"dining\" + 0.006*\"table\" + 0.006*\"food\" + 0.006*\"meal\"\n",
      "\n",
      "Topic: 34 \n",
      "Words: 0.028*\"roll\" + 0.018*\"rice\" + 0.018*\"thai\" + 0.014*\"soup\" + 0.010*\"good\" + 0.008*\"spicy\" + 0.008*\"food\" + 0.008*\"really\" + 0.007*\"delicious\" + 0.007*\"beef\"\n",
      "\n",
      "Topic: 35 \n",
      "Words: 0.102*\"indie\" + 0.058*\"grit\" + 0.024*\"la\" + 0.023*\"nutella\" + 0.018*\"brulee\" + 0.013*\"clientele\" + 0.013*\"discover\" + 0.012*\"dance\" + 0.012*\"curd\" + 0.012*\"rack\"\n",
      "\n",
      "Topic: 36 \n",
      "Words: 0.037*\"cuban\" + 0.027*\"de\" + 0.015*\"chinatown\" + 0.015*\"love\" + 0.014*\"chao\" + 0.014*\"best\" + 0.013*\"andersonville\" + 0.012*\"chicago\" + 0.012*\"place\" + 0.012*\"hot\"\n",
      "\n",
      "Topic: 37 \n",
      "Words: 0.012*\"great\" + 0.011*\"back\" + 0.010*\"menu\" + 0.010*\"try\" + 0.010*\"place\" + 0.010*\"beer\" + 0.008*\"time\" + 0.008*\"go\" + 0.007*\"one\" + 0.007*\"chicago\"\n",
      "\n",
      "Topic: 38 \n",
      "Words: 0.017*\"good\" + 0.015*\"wing\" + 0.013*\"leon\" + 0.011*\"chopped\" + 0.010*\"tiramisu\" + 0.008*\"nice\" + 0.007*\"much\" + 0.007*\"food\" + 0.007*\"back\" + 0.007*\"ordered\"\n",
      "\n",
      "Topic: 39 \n",
      "Words: 0.076*\"wedding\" + 0.033*\"con\" + 0.028*\"tv\" + 0.028*\"relaxing\" + 0.028*\"pro\" + 0.024*\"load\" + 0.022*\"cramped\" + 0.014*\"allowing\" + 0.013*\"boston\" + 0.011*\"handled\"\n",
      "\n"
     ]
    }
   ],
   "source": [
    "for idx, topic in lda_model.print_topics(-1):\n",
    "    print(f\"Topic: {idx} \\nWords: {topic}\\n\")\n"
   ]
  },
  {
   "cell_type": "code",
   "execution_count": 197,
   "metadata": {},
   "outputs": [
    {
     "data": {
      "text/plain": [
       "count    26956.000000\n",
       "mean        16.749852\n",
       "std         10.286571\n",
       "min          0.000000\n",
       "25%         10.000000\n",
       "50%         14.000000\n",
       "75%         26.000000\n",
       "max         38.000000\n",
       "Name: main_topic, dtype: float64"
      ]
     },
     "execution_count": 197,
     "metadata": {},
     "output_type": "execute_result"
    }
   ],
   "source": [
    "df[\"main_topic\"].describe()"
   ]
  },
  {
   "cell_type": "code",
   "execution_count": 189,
   "metadata": {},
   "outputs": [],
   "source": [
    " df[\"flagged\"] = df[\"flagged\"].replace({\"N\":0, \"Y\": 1})"
   ]
  },
  {
   "cell_type": "markdown",
   "metadata": {},
   "source": [
    "### Comparing Topics between Fradulent and Non-Fradulent Class"
   ]
  },
  {
   "cell_type": "code",
   "execution_count": 198,
   "metadata": {},
   "outputs": [
    {
     "name": "stderr",
     "output_type": "stream",
     "text": [
      "/var/folders/1t/nll74_0j61918pgb1cz1kwsr0000gn/T/ipykernel_20520/3087426889.py:4: FutureWarning: \n",
      "\n",
      "`shade` is now deprecated in favor of `fill`; setting `fill=True`.\n",
      "This will become an error in seaborn v0.14.0; please update your code.\n",
      "\n",
      "  sns.kdeplot(df[df[\"flagged\"]==0][\"main_topic\"], shade=True, color=\"green\", label=\"Genuine\", ax=ax)\n",
      "/var/folders/1t/nll74_0j61918pgb1cz1kwsr0000gn/T/ipykernel_20520/3087426889.py:6: FutureWarning: \n",
      "\n",
      "`shade` is now deprecated in favor of `fill`; setting `fill=True`.\n",
      "This will become an error in seaborn v0.14.0; please update your code.\n",
      "\n",
      "  sns.kdeplot(df[df[\"flagged\"]==1][\"main_topic\"], shade=True, color=\"blue\", label=\"Fraudulent\", ax=ax)\n"
     ]
    },
    {
     "data": {
      "text/plain": [
       "Text(0.5, 0.98, 'Main Topic vs Fraud Class')"
      ]
     },
     "execution_count": 198,
     "metadata": {},
     "output_type": "execute_result"
    },
    {
     "data": {
      "image/png": "[encoded data removed]",
      "text/plain": [
       "<Figure size 640x480 with 1 Axes>"
      ]
     },
     "metadata": {},
     "output_type": "display_data"
    }
   ],
   "source": [
    "import seaborn as sns\n",
    "\n",
    "fig, ax = plt.subplots()\n",
    "sns.kdeplot(df[df[\"flagged\"]==0][\"main_topic\"], shade=True, color=\"green\", label=\"Genuine\", ax=ax)\n",
    "\n",
    "sns.kdeplot(df[df[\"flagged\"]==1][\"main_topic\"], shade=True, color=\"blue\", label=\"Fraudulent\", ax=ax)\n",
    "ax.set_xlabel(\"Main Topic\")\n",
    "ax.set_ylabel(\"Density\")\n",
    "ax.legend()\n",
    "fig.suptitle(\"Main Topic vs Fraud Class\")\n"
   ]
  },
  {
   "cell_type": "code",
   "execution_count": 199,
   "metadata": {},
   "outputs": [
    {
     "data": {
      "image/png": "[encoded data removed]",
      "text/plain": [
       "<Figure size 640x480 with 1 Axes>"
      ]
     },
     "metadata": {},
     "output_type": "display_data"
    }
   ],
   "source": [
    "# Create a new figure and axis object\n",
    "fig, ax = plt.subplots()\n",
    "\n",
    "# Plot the boxplot on the axis object\n",
    "sns.boxplot(x=\"flagged\", y=\"main_topic\", data=df, palette={1: \"red\", 0: \"green\"}, ax=ax)\n",
    "\n",
    "# Set the title and axis labels\n",
    "ax.set_title(\"main_topic vs Fraud Class\")\n",
    "ax.set_ylabel(\"main_topic\")\n",
    "ax.set_xlabel(\"Fraud Class\")\n",
    "\n",
    "# Display the plot\n",
    "plt.show()\n"
   ]
  },
  {
   "cell_type": "code",
   "execution_count": 200,
   "metadata": {},
   "outputs": [
    {
     "name": "stdout",
     "output_type": "stream",
     "text": [
      "           count       mean        std  min   25%   50%   75%   max\n",
      "flagged                                                            \n",
      "0        20752.0  16.552814  10.475505  0.0  10.0  14.0  26.0  38.0\n",
      "1         6204.0  17.408930   9.599152  0.0  10.0  18.0  28.0  38.0\n"
     ]
    }
   ],
   "source": [
    "description = df.groupby('flagged')['main_topic'].describe()\n",
    "print(description)\n"
   ]
  }
 ],
 "metadata": {
  "kernelspec": {
   "display_name": "Python 3 (ipykernel)",
   "language": "python",
   "name": "python3"
  },
  "language_info": {
   "codemirror_mode": {
    "name": "ipython",
    "version": 3
   },
   "file_extension": ".py",
   "mimetype": "text/x-python",
   "name": "python",
   "nbconvert_exporter": "python",
   "pygments_lexer": "ipython3",
   "version": "3.11.0"
  },
  "orig_nbformat": 4
 },
 "nbformat": 4,
 "nbformat_minor": 2
}
