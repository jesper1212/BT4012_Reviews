{
 "cells": [
  {
   "cell_type": "code",
   "execution_count": 117,
   "metadata": {},
   "outputs": [],
   "source": [
    "import pandas as pd \n",
    "import matplotlib.pyplot as plt "
   ]
  },
  {
   "cell_type": "code",
   "execution_count": 118,
   "metadata": {},
   "outputs": [
    {
     "name": "stderr",
     "output_type": "stream",
     "text": [
      "/var/folders/1t/nll74_0j61918pgb1cz1kwsr0000gn/T/ipykernel_20520/341387442.py:1: DtypeWarning: Columns (27) have mixed types. Specify dtype option on import or set low_memory=False.\n",
      "  df = pd.read_csv(\"/Users/admin/Desktop/UNI/Y3/BT4012/Project/BT4012_Reviews/Data/Raw/Entity_Count_Flag_dataframe.csv\")\n"
     ]
    }
   ],
   "source": [
    "df = pd.read_csv(\"/Users/admin/Desktop/UNI/Y3/BT4012/Project/BT4012_Reviews/Data/Raw/Entity_Count_Flag_dataframe.csv\")"
   ]
  },
  {
   "cell_type": "code",
   "execution_count": 119,
   "metadata": {},
   "outputs": [
    {
     "data": {
      "text/plain": [
       "0    Unlike Next, which we'd eaten at the previous ...\n",
       "1    Probably one of the best meals I've had ever. ...\n",
       "2    Service was impeccable. Experience and present...\n",
       "3    The problem with places like this, given the e...\n",
       "4    I have no idea how to write my review - dining...\n",
       "5    Despite the first-world tragedy I endured in a...\n",
       "6    Overall, was it worth the hype? Yes and more. ...\n",
       "7    There are already TONS of professional & amate...\n",
       "8    Your life is a countdown ever since you're bor...\n",
       "9    Lots of complaints about how difficult it is t...\n",
       "Name: reviewContent, dtype: object"
      ]
     },
     "execution_count": 119,
     "metadata": {},
     "output_type": "execute_result"
    }
   ],
   "source": [
    "df[\"reviewContent\"].head(10)\n"
   ]
  },
  {
   "cell_type": "code",
   "execution_count": 120,
   "metadata": {},
   "outputs": [
    {
     "name": "stderr",
     "output_type": "stream",
     "text": [
      "[nltk_data] Downloading package stopwords to /Users/admin/nltk_data...\n",
      "[nltk_data]   Package stopwords is already up-to-date!\n",
      "[nltk_data] Downloading package wordnet to /Users/admin/nltk_data...\n",
      "[nltk_data]   Package wordnet is already up-to-date!\n"
     ]
    },
    {
     "name": "stdout",
     "output_type": "stream",
     "text": [
      "                                           reviewContent  \\\n",
      "0      Unlike Next, which we'd eaten at the previous ...   \n",
      "1      Probably one of the best meals I've had ever. ...   \n",
      "2      Service was impeccable. Experience and present...   \n",
      "3      The problem with places like this, given the e...   \n",
      "4      I have no idea how to write my review - dining...   \n",
      "...                                                  ...   \n",
      "26951  It's Taco Bell, with higher prices, but it's T...   \n",
      "26952  Yellow Rose is a favorite of mine. I'd go ther...   \n",
      "26953  Not bad. We ate there because the odd wicker s...   \n",
      "26954  We were surprised to have been eagerly roped i...   \n",
      "26955  A gorgeous shy young teen asked the owner if s...   \n",
      "\n",
      "                                            preprocessed  \n",
      "0      [unlike, next, wed, eaten, previous, night, di...  \n",
      "1      [probably, one, best, meal, ive, ever, perform...  \n",
      "2      [service, impeccable, experience, presentation...  \n",
      "3      [problem, place, like, given, exhorbitant, cos...  \n",
      "4      [idea, write, review, dining, alinea, brings, ...  \n",
      "...                                                  ...  \n",
      "26951  [taco, bell, higher, price, taco, bell, stand,...  \n",
      "26952  [yellow, rose, favorite, mine, id, go, every, ...  \n",
      "26953  [bad, ate, odd, wicker, seat, inviting, ate, s...  \n",
      "26954  [surprised, eagerly, roped, pop, trivia, game,...  \n",
      "26955  [gorgeous, shy, young, teen, asked, owner, cou...  \n",
      "\n",
      "[26956 rows x 2 columns]\n"
     ]
    }
   ],
   "source": [
    "import pandas as pd\n",
    "import nltk\n",
    "import re\n",
    "import string\n",
    "from nltk.stem.porter import PorterStemmer\n",
    "from nltk.stem import WordNetLemmatizer\n",
    "\n",
    "# Download stopwords and wordnet data for NLTK\n",
    "nltk.download('stopwords')\n",
    "nltk.download('wordnet')\n",
    "\n",
    "# Stop words\n",
    "stopwords = nltk.corpus.stopwords.words('english')\n",
    "\n",
    "# Functions for preprocessing\n",
    "def remove_punctuation(text):\n",
    "    punctuationfree=\"\".join([i for i in text if i not in string.punctuation])\n",
    "    return punctuationfree\n",
    "\n",
    "def tokenization(text):\n",
    "    tokens = re.split('\\W+',text)\n",
    "    return tokens\n",
    "\n",
    "def remove_stopwords(text):\n",
    "    output= [i for i in text if i not in stopwords]\n",
    "    return output\n",
    "\n",
    "def lemmatizer(text):\n",
    "    wordnet_lemmatizer = WordNetLemmatizer()\n",
    "    lemm_text = [wordnet_lemmatizer.lemmatize(word) for word in text]\n",
    "    return lemm_text\n",
    "\n",
    "def preprocess(text):\n",
    "    text = remove_punctuation(text)\n",
    "    text = text.lower()\n",
    "    text = tokenization(text)\n",
    "    text = remove_stopwords(text)\n",
    "    text = lemmatizer(text)\n",
    "    return text\n",
    "\n",
    "# Apply preprocessing\n",
    "df['preprocessed'] = df['reviewContent'].apply(lambda x: preprocess(x))\n",
    "\n",
    "print(df[['reviewContent', 'preprocessed']])\n"
   ]
  },
  {
   "cell_type": "markdown",
   "metadata": {},
   "source": [
    "### LDA - Topic Modelling "
   ]
  },
  {
   "cell_type": "code",
   "execution_count": 136,
   "metadata": {},
   "outputs": [],
   "source": [
    "from gensim.corpora import Dictionary\n",
    "processed_data = df[\"preprocessed\"]\n",
    "\n",
    "# create dictionary from preprocessed column in df where every unique token will be assigned a unique ID \n",
    "dictionary = Dictionary(df[\"preprocessed\"])\n",
    "\n",
    "# converts each text into boW -> list of tuples each tuples is (token_id, token_count)\n",
    "# id mapped by dict, token count is num times appear in document \n",
    "corpus = [dictionary.doc2bow(text) for text in processed_data]\n"
   ]
  },
  {
   "cell_type": "code",
   "execution_count": 172,
   "metadata": {},
   "outputs": [],
   "source": [
    "from gensim.models import LdaModel\n",
    "\n",
    "# train model \n",
    "lda_model = LdaModel(corpus=corpus, id2word=dictionary, num_topics=30, random_state=42)\n"
   ]
  },
  {
   "cell_type": "code",
   "execution_count": 173,
   "metadata": {},
   "outputs": [],
   "source": [
    "topics = []\n",
    "# for each review in corpus, get topic distribution \n",
    "\n",
    "for review in corpus:\n",
    "    # get topic distribution for each review; returns list of tuples each tuple consist of (topic_num, probabilityP)\n",
    "\n",
    "    topic_distribution = lda_model[review]\n",
    "    # print(topic_distribution)\n",
    "    # sort by probability, get the topic number of the highest probability\n",
    "    # [0][0] gets the topic number of highest probability, then append to topics     \n",
    "    main_topic = sorted(topic_distribution, key=lambda x: x[1], reverse=True)[0][0]\n",
    "    topics.append(main_topic)"
   ]
  },
  {
   "cell_type": "code",
   "execution_count": 174,
   "metadata": {},
   "outputs": [],
   "source": [
    "df['main_topic'] = topics\n"
   ]
  },
  {
   "cell_type": "code",
   "execution_count": 175,
   "metadata": {},
   "outputs": [
    {
     "name": "stdout",
     "output_type": "stream",
     "text": [
      "Topic: 0 \n",
      "Words: 0.015*\"like\" + 0.007*\"really\" + 0.006*\"place\" + 0.006*\"tom\" + 0.006*\"dont\" + 0.006*\"one\" + 0.005*\"chris\" + 0.005*\"make\" + 0.005*\"delivery\" + 0.005*\"hush\"\n",
      "\n",
      "Topic: 1 \n",
      "Words: 0.027*\"cafe\" + 0.020*\"wing\" + 0.018*\"bbq\" + 0.015*\"q\" + 0.015*\"buffalo\" + 0.010*\"beignet\" + 0.009*\"chinese\" + 0.009*\"orleans\" + 0.007*\"sauce\" + 0.006*\"cry\"\n",
      "\n",
      "Topic: 2 \n",
      "Words: 0.036*\"taco\" + 0.025*\"coast\" + 0.017*\"east\" + 0.011*\"shake\" + 0.010*\"place\" + 0.010*\"good\" + 0.007*\"food\" + 0.007*\"cheesecake\" + 0.007*\"weekly\" + 0.006*\"like\"\n",
      "\n",
      "Topic: 3 \n",
      "Words: 0.041*\"n\" + 0.030*\"lincoln\" + 0.021*\"park\" + 0.019*\"alright\" + 0.016*\"garbage\" + 0.015*\"sundried\" + 0.015*\"overrated\" + 0.012*\"client\" + 0.011*\"whose\" + 0.011*\"sp\"\n",
      "\n",
      "Topic: 4 \n",
      "Words: 0.013*\"back\" + 0.012*\"time\" + 0.012*\"dish\" + 0.011*\"meat\" + 0.011*\"place\" + 0.010*\"go\" + 0.010*\"really\" + 0.010*\"food\" + 0.009*\"good\" + 0.009*\"try\"\n",
      "\n",
      "Topic: 5 \n",
      "Words: 0.037*\"chinatown\" + 0.028*\"lentil\" + 0.013*\"wedding\" + 0.009*\"inn\" + 0.008*\"factory\" + 0.008*\"exceptionally\" + 0.007*\"parm\" + 0.006*\"tastier\" + 0.006*\"pickle\" + 0.005*\"good\"\n",
      "\n",
      "Topic: 6 \n",
      "Words: 0.103*\"parking\" + 0.092*\"cuban\" + 0.047*\"valet\" + 0.038*\"grit\" + 0.031*\"car\" + 0.019*\"street\" + 0.017*\"kabob\" + 0.012*\"drive\" + 0.010*\"food\" + 0.010*\"drove\"\n",
      "\n",
      "Topic: 7 \n",
      "Words: 0.020*\"beer\" + 0.017*\"menu\" + 0.016*\"great\" + 0.014*\"eastern\" + 0.012*\"time\" + 0.011*\"selection\" + 0.011*\"mussel\" + 0.010*\"food\" + 0.008*\"one\" + 0.008*\"option\"\n",
      "\n",
      "Topic: 8 \n",
      "Words: 0.013*\"duck\" + 0.010*\"pork\" + 0.010*\"dish\" + 0.008*\"meat\" + 0.008*\"cheese\" + 0.007*\"wine\" + 0.007*\"salad\" + 0.007*\"beef\" + 0.006*\"good\" + 0.006*\"also\"\n",
      "\n",
      "Topic: 9 \n",
      "Words: 0.116*\"steakhouse\" + 0.052*\"san\" + 0.019*\"definately\" + 0.010*\"market\" + 0.009*\"chef\" + 0.008*\"collection\" + 0.008*\"closest\" + 0.007*\"francisco\" + 0.007*\"manhattan\" + 0.006*\"soo\"\n",
      "\n",
      "Topic: 10 \n",
      "Words: 0.014*\"table\" + 0.010*\"bar\" + 0.010*\"place\" + 0.009*\"like\" + 0.009*\"one\" + 0.007*\"get\" + 0.007*\"night\" + 0.006*\"people\" + 0.006*\"time\" + 0.006*\"u\"\n",
      "\n",
      "Topic: 11 \n",
      "Words: 0.006*\"st\" + 0.006*\"one\" + 0.005*\"restaurant\" + 0.005*\"excuse\" + 0.005*\"order\" + 0.005*\"know\" + 0.005*\"ignored\" + 0.005*\"flip\" + 0.004*\"lp\" + 0.004*\"get\"\n",
      "\n",
      "Topic: 12 \n",
      "Words: 0.036*\"mediterranean\" + 0.021*\"guac\" + 0.019*\"creamed\" + 0.019*\"encrusted\" + 0.014*\"boat\" + 0.010*\"distinctly\" + 0.010*\"los\" + 0.009*\"angeles\" + 0.009*\"bulgogi\" + 0.007*\"soupy\"\n",
      "\n",
      "Topic: 13 \n",
      "Words: 0.064*\"great\" + 0.051*\"food\" + 0.035*\"place\" + 0.029*\"service\" + 0.022*\"always\" + 0.021*\"love\" + 0.017*\"restaurant\" + 0.017*\"good\" + 0.014*\"atmosphere\" + 0.012*\"go\"\n",
      "\n",
      "Topic: 14 \n",
      "Words: 0.017*\"good\" + 0.009*\"like\" + 0.008*\"also\" + 0.008*\"sauce\" + 0.008*\"food\" + 0.007*\"place\" + 0.007*\"really\" + 0.007*\"meat\" + 0.006*\"little\" + 0.006*\"steak\"\n",
      "\n",
      "Topic: 15 \n",
      "Words: 0.035*\"takeout\" + 0.016*\"cupcake\" + 0.014*\"southern\" + 0.011*\"distance\" + 0.010*\"resturant\" + 0.010*\"patty\" + 0.008*\"carmelized\" + 0.008*\"walking\" + 0.007*\"counter\" + 0.006*\"gluten\"\n",
      "\n",
      "Topic: 16 \n",
      "Words: 0.045*\"mexican\" + 0.043*\"brunch\" + 0.021*\"mignon\" + 0.020*\"bloody\" + 0.019*\"mary\" + 0.016*\"sunday\" + 0.015*\"filet\" + 0.012*\"son\" + 0.009*\"good\" + 0.008*\"steak\"\n",
      "\n",
      "Topic: 17 \n",
      "Words: 0.037*\"good\" + 0.025*\"place\" + 0.016*\"priced\" + 0.014*\"food\" + 0.011*\"reasonably\" + 0.011*\"tea\" + 0.010*\"mac\" + 0.009*\"pretty\" + 0.007*\"really\" + 0.007*\"nice\"\n",
      "\n",
      "Topic: 18 \n",
      "Words: 0.024*\"place\" + 0.013*\"love\" + 0.013*\"go\" + 0.013*\"food\" + 0.012*\"get\" + 0.012*\"wait\" + 0.010*\"great\" + 0.010*\"bar\" + 0.009*\"back\" + 0.009*\"delicious\"\n",
      "\n",
      "Topic: 19 \n",
      "Words: 0.027*\"pita\" + 0.018*\"margarita\" + 0.016*\"beer\" + 0.015*\"wicker\" + 0.013*\"tru\" + 0.010*\"roast\" + 0.008*\"cub\" + 0.007*\"food\" + 0.007*\"belgian\" + 0.007*\"good\"\n",
      "\n",
      "Topic: 20 \n",
      "Words: 0.025*\"breast\" + 0.023*\"register\" + 0.020*\"store\" + 0.018*\"sashimi\" + 0.016*\"tuna\" + 0.016*\"liquor\" + 0.015*\"au\" + 0.013*\"over\" + 0.012*\"crusted\" + 0.011*\"dance\"\n",
      "\n",
      "Topic: 21 \n",
      "Words: 0.037*\"place\" + 0.026*\"ive\" + 0.019*\"best\" + 0.018*\"food\" + 0.015*\"like\" + 0.014*\"get\" + 0.014*\"dont\" + 0.013*\"good\" + 0.011*\"ever\" + 0.011*\"go\"\n",
      "\n",
      "Topic: 22 \n",
      "Words: 0.137*\"roll\" + 0.017*\"crab\" + 0.012*\"spring\" + 0.011*\"spicy\" + 0.010*\"miso\" + 0.008*\"shrimp\" + 0.008*\"flank\" + 0.008*\"seaweed\" + 0.007*\"fish\" + 0.006*\"tempura\"\n",
      "\n",
      "Topic: 23 \n",
      "Words: 0.009*\"pot\" + 0.009*\"whiskey\" + 0.009*\"chao\" + 0.008*\"coke\" + 0.008*\"lakeview\" + 0.008*\"revolution\" + 0.008*\"hood\" + 0.008*\"library\" + 0.006*\"burger\" + 0.006*\"like\"\n",
      "\n",
      "Topic: 24 \n",
      "Words: 0.053*\"soup\" + 0.049*\"chicken\" + 0.037*\"good\" + 0.031*\"salad\" + 0.023*\"thai\" + 0.020*\"food\" + 0.018*\"rice\" + 0.016*\"fresh\" + 0.014*\"curry\" + 0.012*\"delicious\"\n",
      "\n",
      "Topic: 25 \n",
      "Words: 0.065*\"beer\" + 0.051*\"texas\" + 0.035*\"burger\" + 0.024*\"love\" + 0.019*\"selection\" + 0.016*\"chao\" + 0.013*\"oyster\" + 0.011*\"tap\" + 0.011*\"fry\" + 0.010*\"great\"\n",
      "\n",
      "Topic: 26 \n",
      "Words: 0.012*\"like\" + 0.010*\"coffee\" + 0.009*\"breakfast\" + 0.009*\"one\" + 0.009*\"egg\" + 0.008*\"place\" + 0.007*\"brunch\" + 0.007*\"sweet\" + 0.007*\"hot\" + 0.007*\"good\"\n",
      "\n",
      "Topic: 27 \n",
      "Words: 0.117*\"sushi\" + 0.030*\"byob\" + 0.024*\"delivery\" + 0.016*\"fee\" + 0.016*\"pad\" + 0.016*\"pancake\" + 0.013*\"crab\" + 0.011*\"corkage\" + 0.010*\"course\" + 0.009*\"restaurant\"\n",
      "\n",
      "Topic: 28 \n",
      "Words: 0.078*\"pizza\" + 0.024*\"italian\" + 0.019*\"crust\" + 0.015*\"dish\" + 0.014*\"good\" + 0.014*\"cheese\" + 0.014*\"chicago\" + 0.012*\"place\" + 0.012*\"deep\" + 0.011*\"best\"\n",
      "\n",
      "Topic: 29 \n",
      "Words: 0.023*\"food\" + 0.019*\"u\" + 0.016*\"service\" + 0.014*\"time\" + 0.012*\"would\" + 0.010*\"table\" + 0.010*\"good\" + 0.010*\"restaurant\" + 0.009*\"minute\" + 0.009*\"back\"\n",
      "\n"
     ]
    }
   ],
   "source": [
    "for idx, topic in lda_model.print_topics(-1):\n",
    "    print(f\"Topic: {idx} \\nWords: {topic}\\n\")\n"
   ]
  },
  {
   "cell_type": "code",
   "execution_count": 176,
   "metadata": {},
   "outputs": [
    {
     "data": {
      "text/plain": [
       "count    26956.000000\n",
       "mean        16.521776\n",
       "std          8.029883\n",
       "min          0.000000\n",
       "25%         10.000000\n",
       "50%         14.000000\n",
       "75%         26.000000\n",
       "max         29.000000\n",
       "Name: main_topic, dtype: float64"
      ]
     },
     "execution_count": 176,
     "metadata": {},
     "output_type": "execute_result"
    }
   ],
   "source": [
    "df[\"main_topic\"].describe()"
   ]
  },
  {
   "cell_type": "code",
   "execution_count": 177,
   "metadata": {},
   "outputs": [],
   "source": [
    " df[\"flagged\"] = df[\"flagged\"].replace({\"N\":0, \"Y\": 1})"
   ]
  },
  {
   "cell_type": "markdown",
   "metadata": {},
   "source": [
    "### Comparing Topics between Fradulent and Non-Fradulent Class"
   ]
  },
  {
   "cell_type": "code",
   "execution_count": 179,
   "metadata": {},
   "outputs": [
    {
     "name": "stderr",
     "output_type": "stream",
     "text": [
      "/var/folders/1t/nll74_0j61918pgb1cz1kwsr0000gn/T/ipykernel_20520/3087426889.py:4: FutureWarning: \n",
      "\n",
      "`shade` is now deprecated in favor of `fill`; setting `fill=True`.\n",
      "This will become an error in seaborn v0.14.0; please update your code.\n",
      "\n",
      "  sns.kdeplot(df[df[\"flagged\"]==0][\"main_topic\"], shade=True, color=\"green\", label=\"Genuine\", ax=ax)\n",
      "/var/folders/1t/nll74_0j61918pgb1cz1kwsr0000gn/T/ipykernel_20520/3087426889.py:6: FutureWarning: \n",
      "\n",
      "`shade` is now deprecated in favor of `fill`; setting `fill=True`.\n",
      "This will become an error in seaborn v0.14.0; please update your code.\n",
      "\n",
      "  sns.kdeplot(df[df[\"flagged\"]==1][\"main_topic\"], shade=True, color=\"blue\", label=\"Fraudulent\", ax=ax)\n"
     ]
    },
    {
     "data": {
      "text/plain": [
       "Text(0.5, 0.98, 'Main Topic vs Fraud Class')"
      ]
     },
     "execution_count": 179,
     "metadata": {},
     "output_type": "execute_result"
    },
    {
     "data": {
      "image/png": "[encoded data removed]",
      "text/plain": [
       "<Figure size 640x480 with 1 Axes>"
      ]
     },
     "metadata": {},
     "output_type": "display_data"
    }
   ],
   "source": [
    "import seaborn as sns\n",
    "\n",
    "fig, ax = plt.subplots()\n",
    "sns.kdeplot(df[df[\"flagged\"]==0][\"main_topic\"], shade=True, color=\"green\", label=\"Genuine\", ax=ax)\n",
    "\n",
    "sns.kdeplot(df[df[\"flagged\"]==1][\"main_topic\"], shade=True, color=\"blue\", label=\"Fraudulent\", ax=ax)\n",
    "ax.set_xlabel(\"Main Topic\")\n",
    "ax.set_ylabel(\"Density\")\n",
    "ax.legend()\n",
    "fig.suptitle(\"Main Topic vs Fraud Class\")\n"
   ]
  },
  {
   "cell_type": "code",
   "execution_count": 181,
   "metadata": {},
   "outputs": [
    {
     "data": {
      "image/png": "[encoded data removed]",
      "text/plain": [
       "<Figure size 640x480 with 1 Axes>"
      ]
     },
     "metadata": {},
     "output_type": "display_data"
    }
   ],
   "source": [
    "# Create a new figure and axis object\n",
    "fig, ax = plt.subplots()\n",
    "\n",
    "# Plot the boxplot on the axis object\n",
    "sns.boxplot(x=\"flagged\", y=\"main_topic\", data=df, palette={1: \"red\", 0: \"green\"}, ax=ax)\n",
    "\n",
    "# Set the title and axis labels\n",
    "ax.set_title(\"main_topic vs Fraud Class\")\n",
    "ax.set_ylabel(\"main_topic\")\n",
    "ax.set_xlabel(\"Fraud Class\")\n",
    "\n",
    "# Display the plot\n",
    "plt.show()\n"
   ]
  },
  {
   "cell_type": "code",
   "execution_count": 183,
   "metadata": {},
   "outputs": [
    {
     "name": "stdout",
     "output_type": "stream",
     "text": [
      "           count       mean       std  min   25%   50%   75%   max\n",
      "flagged                                                           \n",
      "0        20752.0  16.314765  7.941712  0.0  10.0  14.0  26.0  29.0\n",
      "1         6204.0  17.214217  8.281154  0.0  13.0  14.0  26.0  29.0\n"
     ]
    }
   ],
   "source": [
    "description = df.groupby('flagged')['main_topic'].describe()\n",
    "print(description)\n"
   ]
  }
 ],
 "metadata": {
  "kernelspec": {
   "display_name": "Python 3 (ipykernel)",
   "language": "python",
   "name": "python3"
  },
  "language_info": {
   "codemirror_mode": {
    "name": "ipython",
    "version": 3
   },
   "file_extension": ".py",
   "mimetype": "text/x-python",
   "name": "python",
   "nbconvert_exporter": "python",
   "pygments_lexer": "ipython3",
   "version": "3.11.0"
  },
  "orig_nbformat": 4
 },
 "nbformat": 4,
 "nbformat_minor": 2
}
