{
 "cells": [
  {
   "cell_type": "code",
   "execution_count": 31,
   "metadata": {},
   "outputs": [],
   "source": [
    "import pandas as pd \n",
    "import numpy as np\n",
    "import matplotlib.pyplot as plt \n",
    "import seaborn as sns "
   ]
  },
  {
   "cell_type": "code",
   "execution_count": 32,
   "metadata": {},
   "outputs": [
    {
     "data": {
      "text/html": [
       "<div>\n",
       "<style scoped>\n",
       "    .dataframe tbody tr th:only-of-type {\n",
       "        vertical-align: middle;\n",
       "    }\n",
       "\n",
       "    .dataframe tbody tr th {\n",
       "        vertical-align: top;\n",
       "    }\n",
       "\n",
       "    .dataframe thead th {\n",
       "        text-align: right;\n",
       "    }\n",
       "</style>\n",
       "<table border=\"1\" class=\"dataframe\">\n",
       "  <thead>\n",
       "    <tr style=\"text-align: right;\">\n",
       "      <th></th>\n",
       "      <th>Unnamed: 0</th>\n",
       "      <th>date</th>\n",
       "      <th>reviewID</th>\n",
       "      <th>reviewerID</th>\n",
       "      <th>reviewContent</th>\n",
       "      <th>rating</th>\n",
       "      <th>usefulCount</th>\n",
       "      <th>coolCount</th>\n",
       "      <th>funnyCount</th>\n",
       "      <th>flagged</th>\n",
       "      <th>restaurantID</th>\n",
       "    </tr>\n",
       "  </thead>\n",
       "  <tbody>\n",
       "    <tr>\n",
       "      <th>0</th>\n",
       "      <td>670716</td>\n",
       "      <td>7/9/2010</td>\n",
       "      <td>9Nn0xmhNMD9W8W1z-UknIQ</td>\n",
       "      <td>0G-QF457q_0Z_jKqh6xWiA</td>\n",
       "      <td>I love sitting outside at the caf茅s that line ...</td>\n",
       "      <td>4</td>\n",
       "      <td>2</td>\n",
       "      <td>2</td>\n",
       "      <td>3</td>\n",
       "      <td>NR</td>\n",
       "      <td>8ljZdIJ-6j4PjR1EjzId7g</td>\n",
       "    </tr>\n",
       "    <tr>\n",
       "      <th>1</th>\n",
       "      <td>168448</td>\n",
       "      <td>5/23/2012</td>\n",
       "      <td>vbmplvJr4nZ1zKqGz6MebQ</td>\n",
       "      <td>AfIkqpTCtF28M2zNAj5rSA</td>\n",
       "      <td>I live a block away from this place, and I dec...</td>\n",
       "      <td>4</td>\n",
       "      <td>0</td>\n",
       "      <td>0</td>\n",
       "      <td>0</td>\n",
       "      <td>NR</td>\n",
       "      <td>1p82vLo47SsW3aYZbxHipw</td>\n",
       "    </tr>\n",
       "    <tr>\n",
       "      <th>2</th>\n",
       "      <td>245044</td>\n",
       "      <td>2/27/2011</td>\n",
       "      <td>f17Q7D29xkJ_BQpIWcP2xg</td>\n",
       "      <td>pu_Aw_LpqAgUyaZkiY8HyA</td>\n",
       "      <td>The bbq pork sandwich is one of my great Rhode...</td>\n",
       "      <td>5</td>\n",
       "      <td>0</td>\n",
       "      <td>0</td>\n",
       "      <td>0</td>\n",
       "      <td>NR</td>\n",
       "      <td>5cdoxMpGrrwsoTTHYB1TIg</td>\n",
       "    </tr>\n",
       "    <tr>\n",
       "      <th>3</th>\n",
       "      <td>132348</td>\n",
       "      <td>4/21/2012</td>\n",
       "      <td>6Ie3C_G3-_Kc9izOPyznGA</td>\n",
       "      <td>axRg9Gsbq5-JznPkSGYlUQ</td>\n",
       "      <td>Definitely a gastronomic adventure and a uniqu...</td>\n",
       "      <td>5</td>\n",
       "      <td>0</td>\n",
       "      <td>2</td>\n",
       "      <td>0</td>\n",
       "      <td>NR</td>\n",
       "      <td>GJu1NAoV8VtoCdiw0mKKwQ</td>\n",
       "    </tr>\n",
       "    <tr>\n",
       "      <th>4</th>\n",
       "      <td>485478</td>\n",
       "      <td>1/27/2009</td>\n",
       "      <td>NLEzoWC2wHEIv7_c5uWdyQ</td>\n",
       "      <td>BfBC_x7SL7K2THafF6IM2w</td>\n",
       "      <td>What can I add that the 277 people before me d...</td>\n",
       "      <td>5</td>\n",
       "      <td>2</td>\n",
       "      <td>3</td>\n",
       "      <td>1</td>\n",
       "      <td>YR</td>\n",
       "      <td>u4ZOxRTE-9N9i-7iR8A4ig</td>\n",
       "    </tr>\n",
       "  </tbody>\n",
       "</table>\n",
       "</div>"
      ],
      "text/plain": [
       "   Unnamed: 0       date                reviewID              reviewerID  \\\n",
       "0      670716   7/9/2010  9Nn0xmhNMD9W8W1z-UknIQ  0G-QF457q_0Z_jKqh6xWiA   \n",
       "1      168448  5/23/2012  vbmplvJr4nZ1zKqGz6MebQ  AfIkqpTCtF28M2zNAj5rSA   \n",
       "2      245044  2/27/2011  f17Q7D29xkJ_BQpIWcP2xg  pu_Aw_LpqAgUyaZkiY8HyA   \n",
       "3      132348  4/21/2012  6Ie3C_G3-_Kc9izOPyznGA  axRg9Gsbq5-JznPkSGYlUQ   \n",
       "4      485478  1/27/2009  NLEzoWC2wHEIv7_c5uWdyQ  BfBC_x7SL7K2THafF6IM2w   \n",
       "\n",
       "                                       reviewContent  rating  usefulCount  \\\n",
       "0  I love sitting outside at the caf茅s that line ...       4            2   \n",
       "1  I live a block away from this place, and I dec...       4            0   \n",
       "2  The bbq pork sandwich is one of my great Rhode...       5            0   \n",
       "3  Definitely a gastronomic adventure and a uniqu...       5            0   \n",
       "4  What can I add that the 277 people before me d...       5            2   \n",
       "\n",
       "   coolCount  funnyCount flagged            restaurantID  \n",
       "0          2           3      NR  8ljZdIJ-6j4PjR1EjzId7g  \n",
       "1          0           0      NR  1p82vLo47SsW3aYZbxHipw  \n",
       "2          0           0      NR  5cdoxMpGrrwsoTTHYB1TIg  \n",
       "3          2           0      NR  GJu1NAoV8VtoCdiw0mKKwQ  \n",
       "4          3           1      YR  u4ZOxRTE-9N9i-7iR8A4ig  "
      ]
     },
     "execution_count": 32,
     "metadata": {},
     "output_type": "execute_result"
    }
   ],
   "source": [
    "df = pd.read_csv('../../Data/Raw/Sampled Yelp Review Data.csv')\n",
    "df.head()"
   ]
  },
  {
   "cell_type": "code",
   "execution_count": 33,
   "metadata": {},
   "outputs": [
    {
     "name": "stdout",
     "output_type": "stream",
     "text": [
      "<class 'pandas.core.frame.DataFrame'>\n",
      "RangeIndex: 100000 entries, 0 to 99999\n",
      "Data columns (total 11 columns):\n",
      " #   Column         Non-Null Count   Dtype \n",
      "---  ------         --------------   ----- \n",
      " 0   Unnamed: 0     100000 non-null  int64 \n",
      " 1   date           100000 non-null  object\n",
      " 2   reviewID       100000 non-null  object\n",
      " 3   reviewerID     100000 non-null  object\n",
      " 4   reviewContent  99999 non-null   object\n",
      " 5   rating         100000 non-null  int64 \n",
      " 6   usefulCount    100000 non-null  int64 \n",
      " 7   coolCount      100000 non-null  int64 \n",
      " 8   funnyCount     100000 non-null  int64 \n",
      " 9   flagged        100000 non-null  object\n",
      " 10  restaurantID   100000 non-null  object\n",
      "dtypes: int64(5), object(6)\n",
      "memory usage: 8.4+ MB\n"
     ]
    }
   ],
   "source": [
    "df.info()"
   ]
  },
  {
   "cell_type": "code",
   "execution_count": 34,
   "metadata": {},
   "outputs": [
    {
     "data": {
      "text/plain": [
       "Unnamed: 0       100000\n",
       "date               4147\n",
       "reviewID         100000\n",
       "reviewerID        15927\n",
       "reviewContent     99891\n",
       "rating                5\n",
       "usefulCount          51\n",
       "coolCount            42\n",
       "funnyCount           52\n",
       "flagged               4\n",
       "restaurantID      58064\n",
       "dtype: int64"
      ]
     },
     "execution_count": 34,
     "metadata": {},
     "output_type": "execute_result"
    }
   ],
   "source": [
    "df.nunique()"
   ]
  },
  {
   "cell_type": "markdown",
   "metadata": {},
   "source": [
    "Unnamed: 0 and reviewID are all unique, therefore they are IID and we can drop them"
   ]
  },
  {
   "cell_type": "code",
   "execution_count": 35,
   "metadata": {},
   "outputs": [],
   "source": [
    "df = df.drop([\"Unnamed: 0\", \"reviewID\"], axis = 1)"
   ]
  },
  {
   "cell_type": "code",
   "execution_count": 36,
   "metadata": {},
   "outputs": [
    {
     "data": {
      "text/html": [
       "<div>\n",
       "<style scoped>\n",
       "    .dataframe tbody tr th:only-of-type {\n",
       "        vertical-align: middle;\n",
       "    }\n",
       "\n",
       "    .dataframe tbody tr th {\n",
       "        vertical-align: top;\n",
       "    }\n",
       "\n",
       "    .dataframe thead th {\n",
       "        text-align: right;\n",
       "    }\n",
       "</style>\n",
       "<table border=\"1\" class=\"dataframe\">\n",
       "  <thead>\n",
       "    <tr style=\"text-align: right;\">\n",
       "      <th></th>\n",
       "      <th>date</th>\n",
       "      <th>reviewerID</th>\n",
       "      <th>reviewContent</th>\n",
       "      <th>rating</th>\n",
       "      <th>usefulCount</th>\n",
       "      <th>coolCount</th>\n",
       "      <th>funnyCount</th>\n",
       "      <th>flagged</th>\n",
       "      <th>restaurantID</th>\n",
       "    </tr>\n",
       "  </thead>\n",
       "  <tbody>\n",
       "    <tr>\n",
       "      <th>0</th>\n",
       "      <td>7/9/2010</td>\n",
       "      <td>0G-QF457q_0Z_jKqh6xWiA</td>\n",
       "      <td>I love sitting outside at the caf茅s that line ...</td>\n",
       "      <td>4</td>\n",
       "      <td>2</td>\n",
       "      <td>2</td>\n",
       "      <td>3</td>\n",
       "      <td>NR</td>\n",
       "      <td>8ljZdIJ-6j4PjR1EjzId7g</td>\n",
       "    </tr>\n",
       "    <tr>\n",
       "      <th>1</th>\n",
       "      <td>5/23/2012</td>\n",
       "      <td>AfIkqpTCtF28M2zNAj5rSA</td>\n",
       "      <td>I live a block away from this place, and I dec...</td>\n",
       "      <td>4</td>\n",
       "      <td>0</td>\n",
       "      <td>0</td>\n",
       "      <td>0</td>\n",
       "      <td>NR</td>\n",
       "      <td>1p82vLo47SsW3aYZbxHipw</td>\n",
       "    </tr>\n",
       "    <tr>\n",
       "      <th>2</th>\n",
       "      <td>2/27/2011</td>\n",
       "      <td>pu_Aw_LpqAgUyaZkiY8HyA</td>\n",
       "      <td>The bbq pork sandwich is one of my great Rhode...</td>\n",
       "      <td>5</td>\n",
       "      <td>0</td>\n",
       "      <td>0</td>\n",
       "      <td>0</td>\n",
       "      <td>NR</td>\n",
       "      <td>5cdoxMpGrrwsoTTHYB1TIg</td>\n",
       "    </tr>\n",
       "    <tr>\n",
       "      <th>3</th>\n",
       "      <td>4/21/2012</td>\n",
       "      <td>axRg9Gsbq5-JznPkSGYlUQ</td>\n",
       "      <td>Definitely a gastronomic adventure and a uniqu...</td>\n",
       "      <td>5</td>\n",
       "      <td>0</td>\n",
       "      <td>2</td>\n",
       "      <td>0</td>\n",
       "      <td>NR</td>\n",
       "      <td>GJu1NAoV8VtoCdiw0mKKwQ</td>\n",
       "    </tr>\n",
       "    <tr>\n",
       "      <th>4</th>\n",
       "      <td>1/27/2009</td>\n",
       "      <td>BfBC_x7SL7K2THafF6IM2w</td>\n",
       "      <td>What can I add that the 277 people before me d...</td>\n",
       "      <td>5</td>\n",
       "      <td>2</td>\n",
       "      <td>3</td>\n",
       "      <td>1</td>\n",
       "      <td>YR</td>\n",
       "      <td>u4ZOxRTE-9N9i-7iR8A4ig</td>\n",
       "    </tr>\n",
       "  </tbody>\n",
       "</table>\n",
       "</div>"
      ],
      "text/plain": [
       "        date              reviewerID  \\\n",
       "0   7/9/2010  0G-QF457q_0Z_jKqh6xWiA   \n",
       "1  5/23/2012  AfIkqpTCtF28M2zNAj5rSA   \n",
       "2  2/27/2011  pu_Aw_LpqAgUyaZkiY8HyA   \n",
       "3  4/21/2012  axRg9Gsbq5-JznPkSGYlUQ   \n",
       "4  1/27/2009  BfBC_x7SL7K2THafF6IM2w   \n",
       "\n",
       "                                       reviewContent  rating  usefulCount  \\\n",
       "0  I love sitting outside at the caf茅s that line ...       4            2   \n",
       "1  I live a block away from this place, and I dec...       4            0   \n",
       "2  The bbq pork sandwich is one of my great Rhode...       5            0   \n",
       "3  Definitely a gastronomic adventure and a uniqu...       5            0   \n",
       "4  What can I add that the 277 people before me d...       5            2   \n",
       "\n",
       "   coolCount  funnyCount flagged            restaurantID  \n",
       "0          2           3      NR  8ljZdIJ-6j4PjR1EjzId7g  \n",
       "1          0           0      NR  1p82vLo47SsW3aYZbxHipw  \n",
       "2          0           0      NR  5cdoxMpGrrwsoTTHYB1TIg  \n",
       "3          2           0      NR  GJu1NAoV8VtoCdiw0mKKwQ  \n",
       "4          3           1      YR  u4ZOxRTE-9N9i-7iR8A4ig  "
      ]
     },
     "execution_count": 36,
     "metadata": {},
     "output_type": "execute_result"
    }
   ],
   "source": [
    "df.head()"
   ]
  },
  {
   "cell_type": "code",
   "execution_count": 27,
   "metadata": {},
   "outputs": [
    {
     "data": {
      "text/html": [
       "<div>\n",
       "<style scoped>\n",
       "    .dataframe tbody tr th:only-of-type {\n",
       "        vertical-align: middle;\n",
       "    }\n",
       "\n",
       "    .dataframe tbody tr th {\n",
       "        vertical-align: top;\n",
       "    }\n",
       "\n",
       "    .dataframe thead th {\n",
       "        text-align: right;\n",
       "    }\n",
       "</style>\n",
       "<table border=\"1\" class=\"dataframe\">\n",
       "  <thead>\n",
       "    <tr style=\"text-align: right;\">\n",
       "      <th></th>\n",
       "      <th>rating</th>\n",
       "      <th>usefulCount</th>\n",
       "      <th>coolCount</th>\n",
       "      <th>funnyCount</th>\n",
       "    </tr>\n",
       "  </thead>\n",
       "  <tbody>\n",
       "    <tr>\n",
       "      <th>count</th>\n",
       "      <td>100000.000000</td>\n",
       "      <td>100000.000000</td>\n",
       "      <td>100000.000000</td>\n",
       "      <td>100000.000000</td>\n",
       "    </tr>\n",
       "    <tr>\n",
       "      <th>mean</th>\n",
       "      <td>3.734810</td>\n",
       "      <td>1.572310</td>\n",
       "      <td>1.026830</td>\n",
       "      <td>0.867120</td>\n",
       "    </tr>\n",
       "    <tr>\n",
       "      <th>std</th>\n",
       "      <td>1.140025</td>\n",
       "      <td>2.742496</td>\n",
       "      <td>2.239214</td>\n",
       "      <td>2.294083</td>\n",
       "    </tr>\n",
       "    <tr>\n",
       "      <th>min</th>\n",
       "      <td>1.000000</td>\n",
       "      <td>0.000000</td>\n",
       "      <td>0.000000</td>\n",
       "      <td>0.000000</td>\n",
       "    </tr>\n",
       "    <tr>\n",
       "      <th>25%</th>\n",
       "      <td>3.000000</td>\n",
       "      <td>0.000000</td>\n",
       "      <td>0.000000</td>\n",
       "      <td>0.000000</td>\n",
       "    </tr>\n",
       "    <tr>\n",
       "      <th>50%</th>\n",
       "      <td>4.000000</td>\n",
       "      <td>1.000000</td>\n",
       "      <td>0.000000</td>\n",
       "      <td>0.000000</td>\n",
       "    </tr>\n",
       "    <tr>\n",
       "      <th>75%</th>\n",
       "      <td>5.000000</td>\n",
       "      <td>2.000000</td>\n",
       "      <td>1.000000</td>\n",
       "      <td>1.000000</td>\n",
       "    </tr>\n",
       "    <tr>\n",
       "      <th>max</th>\n",
       "      <td>5.000000</td>\n",
       "      <td>59.000000</td>\n",
       "      <td>56.000000</td>\n",
       "      <td>127.000000</td>\n",
       "    </tr>\n",
       "  </tbody>\n",
       "</table>\n",
       "</div>"
      ],
      "text/plain": [
       "              rating    usefulCount      coolCount     funnyCount\n",
       "count  100000.000000  100000.000000  100000.000000  100000.000000\n",
       "mean        3.734810       1.572310       1.026830       0.867120\n",
       "std         1.140025       2.742496       2.239214       2.294083\n",
       "min         1.000000       0.000000       0.000000       0.000000\n",
       "25%         3.000000       0.000000       0.000000       0.000000\n",
       "50%         4.000000       1.000000       0.000000       0.000000\n",
       "75%         5.000000       2.000000       1.000000       1.000000\n",
       "max         5.000000      59.000000      56.000000     127.000000"
      ]
     },
     "execution_count": 27,
     "metadata": {},
     "output_type": "execute_result"
    }
   ],
   "source": [
    "df.describe()"
   ]
  },
  {
   "cell_type": "code",
   "execution_count": 37,
   "metadata": {},
   "outputs": [
    {
     "data": {
      "text/plain": [
       "NR    50910\n",
       "YR    40559\n",
       "N      7460\n",
       "Y      1071\n",
       "Name: flagged, dtype: int64"
      ]
     },
     "execution_count": 37,
     "metadata": {},
     "output_type": "execute_result"
    }
   ],
   "source": [
    "df.flagged.value_counts()"
   ]
  },
  {
   "cell_type": "code",
   "execution_count": 28,
   "metadata": {},
   "outputs": [
    {
     "name": "stdout",
     "output_type": "stream",
     "text": [
      "Columns with missing values:\n",
      "reviewContent    1\n",
      "dtype: int64\n"
     ]
    }
   ],
   "source": [
    "missing_values = df.isnull().sum()\n",
    "\n",
    "# Print the columns with missing values\n",
    "print('Columns with missing values:')\n",
    "print(missing_values[missing_values > 0])"
   ]
  },
  {
   "cell_type": "code",
   "execution_count": 43,
   "metadata": {},
   "outputs": [
    {
     "data": {
      "text/plain": [
       "<AxesSubplot:>"
      ]
     },
     "execution_count": 43,
     "metadata": {},
     "output_type": "execute_result"
    },
    {
     "data": {
      "image/png": "[encoded data removed]",
      "text/plain": [
       "<Figure size 432x288 with 1 Axes>"
      ]
     },
     "metadata": {
      "needs_background": "light"
     },
     "output_type": "display_data"
    }
   ],
   "source": [
    "df.rating.value_counts().sort_index().plot(kind = \"bar\")"
   ]
  }
 ],
 "metadata": {
  "kernelspec": {
   "display_name": "base",
   "language": "python",
   "name": "python3"
  },
  "language_info": {
   "codemirror_mode": {
    "name": "ipython",
    "version": 3
   },
   "file_extension": ".py",
   "mimetype": "text/x-python",
   "name": "python",
   "nbconvert_exporter": "python",
   "pygments_lexer": "ipython3",
   "version": "3.9.12"
  },
  "orig_nbformat": 4
 },
 "nbformat": 4,
 "nbformat_minor": 2
}
